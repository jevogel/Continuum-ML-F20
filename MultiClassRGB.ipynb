{
 "cells": [
  {
   "cell_type": "code",
   "execution_count": 30,
   "metadata": {
    "tags": []
   },
   "outputs": [
    {
     "name": "stdout",
     "output_type": "stream",
     "text": [
      "Libraries loaded\n"
     ]
    }
   ],
   "source": [
    "using IJulia, ImageIO, ImageMagick, Plots, Images, JLD2, Printf, Random, Statistics, Interact, WebIO\n",
    "\n",
    "if !@isdefined(g)\n",
    "    include(\"src/MyLearn2ClassifyMany.jl\")\n",
    "end\n",
    "using Main.MyLearn2ClassifyMany\n",
    "\n",
    "theme(\n",
    "    :wong;\n",
    "    label=\"\",\n",
    "    markerstrokewidth=0.3,\n",
    "    markerstrokecolor=:white\n",
    ")\n",
    "\n",
    "println(\"Libraries loaded\")"
   ]
  },
  {
   "cell_type": "code",
   "execution_count": 31,
   "metadata": {
    "tags": []
   },
   "outputs": [
    {
     "name": "stdout",
     "output_type": "stream",
     "text": [
      "Functions defined\n"
     ]
    }
   ],
   "source": [
    "function e_i(i::Integer, n::Integer, T::Type=Float64)\n",
    "    v = zeros(T, n)\n",
    "    v[i] = 1\n",
    "\n",
    "    return v\n",
    "end\n",
    "\n",
    "\"\"\"\n",
    "    img = array2rgb(X)\n",
    "\n",
    "Given a `height` x `width` x `3` array, return an RGB image with the same\n",
    "dimensions, where\n",
    "\n",
    "    img[i, j] = RGB(X[i, j, 1], X[i, j, 2], X[i, j, 3])\n",
    "\"\"\"\n",
    "function array2rgb(X::Array{T,3}) where T <: Number\n",
    "    height, width = size(X, 1), size(X, 2)\n",
    "    img = Array{RGB,2}(undef, height, width)\n",
    "\n",
    "    for i in 1:height, j in 1:width\n",
    "        r, g, b = X[i, j, :]\n",
    "        img[i, j] = RGB(r, g, b)\n",
    "    end\n",
    "    return img\n",
    "end\n",
    "\n",
    "\"\"\"\n",
    "    Y = array2matrix(X)\n",
    "\n",
    "Given a four-dimensional array `X`, vectorize each slice of `X` along\n",
    "its fourth dimension. For example, if `X` has size `height` x `width` x\n",
    "`rgb` x `n_samples`, then the returned matrix has size\n",
    "`height * width * rgb` x `n_samples`.\n",
    "\"\"\"\n",
    "function array2matrix(X::AbstractArray{T,4}) where T\n",
    "    height, width, rgb, n_samples = size(X)\n",
    "\n",
    "    Y = zeros(height * width * rgb, n_samples)\n",
    "\n",
    "    for idx in 1:n_samples\n",
    "        Y[:, idx] = vec(X[:, :, :, idx])\n",
    "    end\n",
    "\n",
    "    return Y\n",
    "end\n",
    "\n",
    "\"\"\"\n",
    "    Y = array2matrix(X, slice_dim)\n",
    "\n",
    "Given an array `X`, vectorize each slice of `X` along dimension `slice_dim`.\n",
    "\n",
    "This function is useful for converting high-dimensional datasets with a\n",
    "sample dimension into data matrices for training neural networks.\n",
    "\"\"\"\n",
    "function array2matrix(X::AbstractArray, slice_dim::Integer)\n",
    "    return hcat((vec(slice) for slice in eachslice(X; dims=slice_dim))...)\n",
    "end\n",
    "\n",
    "function check_correct(f_a, W_hat, X_test, b_hat, n_test)\n",
    "    Y_out = f_a.(W_hat * X_test .+ b_hat)\n",
    "    test_predicted = output2labels(Y_out)\n",
    "    test_actual = [ones(n_test); 2 * ones(n_test); 3 * ones(n_test)]\n",
    "    pcorrect = length(findall(test_actual .== test_predicted)) / length(test_actual)\n",
    "    return (\n",
    "        pcorrect,\n",
    "        test_predicted,\n",
    "        test_actual\n",
    "    )  \n",
    "end\n",
    "\n",
    "function output2labels(Y)\n",
    "    n_samples = size(Y, 2)\n",
    "    label_idx = [findmax(Y[:, i])[2] for i in 1:n_samples]\n",
    "end\n",
    "\n",
    "println(\"Functions defined\")"
   ]
  },
  {
   "cell_type": "code",
   "execution_count": 32,
   "metadata": {
    "tags": []
   },
   "outputs": [
    {
     "name": "stdout",
     "output_type": "stream",
     "text": [
      "Training and test data separated\n"
     ]
    }
   ],
   "source": [
    "X_rock = load(\"data/rock.jld2\")[\"rock_imgs\"]\n",
    "X_paper = load(\"data/paper.jld2\")[\"paper_imgs\"]\n",
    "X_scissors = load(\"data/scissors.jld2\")[\"scissors_imgs\"]\n",
    "\n",
    "X = [X_rock, X_paper, X_scissors]\n",
    "labels = [\"rock\", \"paper\", \"scissors\"]\n",
    "num_labels = length(labels)\n",
    "\n",
    "label2vector = Dict{String,Vector{Float64}}()\n",
    "for (i, l) in enumerate(labels)\n",
    "    label2vector[l] = e_i(i, num_labels)\n",
    "end\n",
    "vector2label = Dict((v, k) for (k, v) in label2vector)\n",
    "\n",
    "train_fraction = 0.6\n",
    "n_samples = size(X_rock, 4)\n",
    "n_train = Int(n_samples * train_fraction)\n",
    "n_test = n_samples - n_train\n",
    "\n",
    "X_train = hcat((array2matrix(Xi[:, :, :, 1:n_train]) for Xi in X)...)\n",
    "Y_train = hcat((repeat(label2vector[l], 1, n_train) for l in labels)...)\n",
    "\n",
    "X_test = hcat((array2matrix(Xi[:, :, :, (n_train + 1):n_samples]) for Xi in X)...)\n",
    "Y_test = hcat((repeat(label2vector[l], 1, n_test) for l in labels)...)\n",
    "\n",
    "println(\"Training and test data separated\")"
   ]
  },
  {
   "cell_type": "code",
   "execution_count": 33,
   "metadata": {},
   "outputs": [
    {
     "data": {
      "text/plain": [
       "train (generic function with 1 method)"
      ]
     },
     "metadata": {},
     "output_type": "execute_result"
    }
   ],
   "source": [
    "function train(\n",
    "        f_a,\n",
    "        df_a,\n",
    "        grad_loss_1layer,\n",
    "        X_train,\n",
    "        Y_train,\n",
    "        W0,\n",
    "        b0,\n",
    "        mu,\n",
    "        iters,\n",
    "        batch_size\n",
    "    )\n",
    "\n",
    "    println(\"\"\"μ: $(mu), i: $(iters), B: $(batch_size), f: $(String(Symbol(f_a)))\"\"\")\n",
    "\n",
    "    W_hat, b_hat, loss = learn2classify_asgd_1layer(\n",
    "        f_a,\n",
    "        df_a,\n",
    "        grad_loss_1layer,\n",
    "        X_train,\n",
    "        Y_train,\n",
    "        W0,\n",
    "        b0,\n",
    "        mu,\n",
    "        iters,\n",
    "        batch_size\n",
    "    )\n",
    "    \n",
    "    loss_end = mean(loss[end-100:end])\n",
    "\n",
    "    (pcorrect, test_predicted, test_actual) = check_correct(f_a, W_hat, X_test, b_hat, n_test)\n",
    "    \n",
    "    println(\"pc: $(@sprintf(\"%.2f\", pcorrect * 100))%, loss: $(@sprintf(\"%.2f\", loss_end * 100))%\")\n",
    "\n",
    "    loss_plot = scatter(\n",
    "        loss;\n",
    "        yscale=:log10,\n",
    "        ylims=[10^-2,10^0],\n",
    "        title=\"\"\"Training loss: $(@sprintf(\"%.2f\", loss_end * 100))%\n",
    "        Probability correct: $(@sprintf(\"%.2f\", pcorrect * 100))%\n",
    "        μ: $(mu), i: $(iters), B: $(batch_size), f: $(String(Symbol(f_a)))\"\"\"\n",
    "    )\n",
    "    \n",
    "    confusion_matrix = zeros(3, 3)\n",
    "    for i in 1:3\n",
    "        indices_i = findall(test_actual .== i)\n",
    "\n",
    "        # predictions for class i\n",
    "        predictions_i = test_predicted[indices_i]\n",
    "\n",
    "        for j in 1:3\n",
    "            # fraction of class i samples labeled as class j\n",
    "            confusion_matrix[i, j] = sum(predictions_i .== j) / length(indices_i)\n",
    "        end\n",
    "    end\n",
    "    \n",
    "    incorrect_idx = findall(test_predicted .!= test_actual)\n",
    "    correct_idx = findall(test_predicted .== test_actual)\n",
    "\n",
    "    # should be approximately all ones\n",
    "    @show sum(confusion_matrix; dims=2)\n",
    "\n",
    "    confusion_map = heatmap(\n",
    "        confusion_matrix;\n",
    "        alpha=1.0,\n",
    "        grid=false,\n",
    "        yflip=true,\n",
    "        xticks=(collect(1:3), [\"Rock\", \"Paper\", \"Scissors\"]),\n",
    "        yticks=(collect(1:3), [\"Rock\", \"Paper\", \"Scissors\"]),\n",
    "        aspect_ratio=1.0,\n",
    "        size=(500, 470)\n",
    "    )\n",
    "\n",
    "    params = Dict(\n",
    "        \"mu\"=>mu,\n",
    "        \"iters\"=>iters,\n",
    "        \"batch_size\"=>batch_size,\n",
    "        \"f_a\"=>f_a,\n",
    "        \"W_hat\"=>W_hat,\n",
    "        \"b_hat\"=>b_hat,\n",
    "        \"loss\"=>loss,\n",
    "        \"loss_end\"=>loss_end,\n",
    "        \"loss_plot\"=>loss_plot,\n",
    "        \"pcorrect\"=>pcorrect,\n",
    "        \"filename\"=>\"multiloss_p$(@sprintf(\"%.2f\", pcorrect * 100))%_μ1e$(Int(log10(mu)))_i$(iters)_B$(batch_size)_f$(String(Symbol(f_a))).png\",\n",
    "        \"confusion_matrix\"=>confusion_matrix,\n",
    "        \"confusion_map\"=>confusion_map,\n",
    "        \"incorrect_idx\"=>incorrect_idx,\n",
    "        \"correct_idx\"=>correct_idx\n",
    "    )\n",
    "    \n",
    "    return params\n",
    "end"
   ]
  },
  {
   "cell_type": "code",
   "execution_count": 34,
   "metadata": {
    "tags": []
   },
   "outputs": [
    {
     "name": "stdout",
     "output_type": "stream",
     "text": [
      "Starting training iterations\n",
      "μ: 0.001, i: 4000, B: 70, f: sigmoid\n",
      "pc: 93.43%, loss: 3.52%\n",
      "sum(confusion_matrix; dims = 2) = [0.9999999999999999; 1.0; 1.0]\n",
      "Training complete.\n"
     ]
    }
   ],
   "source": [
    "println(\"Starting training iterations\")\n",
    "\n",
    "getMu(i) = 1/10^i\n",
    "getIters(i) = Int(1000 * i)\n",
    "getBatch(i) = Int(10 .* i)\n",
    "getF(i) = ((linear,dlinear),(tanh,dtanh),(sigmoid,dsigmoid))[i]\n",
    "\n",
    "d = size(X_train, 1)\n",
    "W0 = zeros(num_labels, d)\n",
    "b0 = zeros(num_labels)\n",
    "plotsdir = \"plots\"\n",
    "mkpath(plotsdir)\n",
    "\n",
    "####### default training values ########\n",
    "\n",
    "mu = getMu(3) # 1e-5\n",
    "iters = getIters(4) # 4000\n",
    "batch_size = getBatch(7) # 40\n",
    "f_a, df_a = getF(3) # sigmoid, dsigmoid\n",
    "\n",
    "########################################\n",
    "# params = []\n",
    "# for i in 1:20\n",
    "#     mu = getMu(rand(2:7))\n",
    "#     f_a, df_a = getF(rand(1:3))\n",
    "#     batch_size = getBatch(rand(4:8))\n",
    "#     params = [params; train(f_a,df_a,grad_loss_1layer,X_train,Y_train,W0,b0,mu,iters,batch_size)]\n",
    "# end\n",
    "\n",
    "p = train(f_a,df_a,grad_loss_1layer,X_train,Y_train,W0,b0,mu,iters,batch_size)\n",
    "\n",
    "println(\"Training complete.\")"
   ]
  },
  {
   "cell_type": "code",
   "execution_count": 35,
   "metadata": {},
   "outputs": [],
   "source": [
    "savefig(p[\"loss_plot\"], \"$(plotsdir)/$(p[\"filename\"])\")\n",
    "savefig(p[\"confusion_map\"], \"$(plotsdir)/conf_$(p[\"filename\"])\")\n",
    "\n",
    "# ps = params\n",
    "# for i in 1:3\n",
    "#     val, idx = findmax(collect(p[\"pcorrect\"] for p in ps))\n",
    "#     p = ps[idx]\n",
    "#     deleteat!(ps, idx)\n",
    "#     savefig(p[\"loss_plot\"], p[\"filename\"])\n",
    "#     display(p[\"loss_plot\"])\n",
    "# end"
   ]
  },
  {
   "cell_type": "code",
   "execution_count": 40,
   "metadata": {},
   "outputs": [
    {
     "name": "stdout",
     "output_type": "stream",
     "text": [
      "Incorrectly classified\n"
     ]
    },
    {
     "data": {
      "application/vnd.webio.node+json": {
       "children": [
        {
         "children": [
          {
           "children": [
            {
             "children": [
              {
               "children": [
                {
                 "children": [
                  "idx"
                 ],
                 "instanceArgs": {
                  "namespace": "html",
                  "tag": "label"
                 },
                 "nodeType": "DOM",
                 "props": {
                  "className": "interact ",
                  "style": {
                   "padding": "5px 10px 0px 10px"
                  }
                 },
                 "type": "node"
                }
               ],
               "instanceArgs": {
                "namespace": "html",
                "tag": "div"
               },
               "nodeType": "DOM",
               "props": {
                "className": "interact-flex-row-left"
               },
               "type": "node"
              },
              {
               "children": [
                {
                 "children": [],
                 "instanceArgs": {
                  "namespace": "html",
                  "tag": "input"
                 },
                 "nodeType": "DOM",
                 "props": {
                  "attributes": {
                   "data-bind": "numericValue: index, valueUpdate: 'input', event: {change: function (){this.changes(this.changes()+1)}}",
                   "orient": "horizontal",
                   "type": "range"
                  },
                  "className": "slider slider is-fullwidth",
                  "max": 56,
                  "min": 1,
                  "step": 1,
                  "style": {}
                 },
                 "type": "node"
                }
               ],
               "instanceArgs": {
                "namespace": "html",
                "tag": "div"
               },
               "nodeType": "DOM",
               "props": {
                "className": "interact-flex-row-center"
               },
               "type": "node"
              },
              {
               "children": [
                {
                 "children": [],
                 "instanceArgs": {
                  "namespace": "html",
                  "tag": "p"
                 },
                 "nodeType": "DOM",
                 "props": {
                  "attributes": {
                   "data-bind": "text: formatted_val"
                  }
                 },
                 "type": "node"
                }
               ],
               "instanceArgs": {
                "namespace": "html",
                "tag": "div"
               },
               "nodeType": "DOM",
               "props": {
                "className": "interact-flex-row-right"
               },
               "type": "node"
              }
             ],
             "instanceArgs": {
              "namespace": "html",
              "tag": "div"
             },
             "nodeType": "DOM",
             "props": {
              "className": "interact-flex-row interact-widget"
             },
             "type": "node"
            }
           ],
           "instanceArgs": {
            "handlers": {
             "changes": [
              "(function (val){return (val!=this.model[\"changes\"]()) ? (this.valueFromJulia[\"changes\"]=true, this.model[\"changes\"](val)) : undefined})"
             ],
             "index": [
              "(function (val){return (val!=this.model[\"index\"]()) ? (this.valueFromJulia[\"index\"]=true, this.model[\"index\"](val)) : undefined})"
             ]
            },
            "id": "7377422785378073925",
            "imports": {
             "data": [
              {
               "name": "knockout",
               "type": "js",
               "url": "/assetserver/68fae20bd2d0f24742949290115f83323f7f435a-knockout.js"
              },
              {
               "name": "knockout_punches",
               "type": "js",
               "url": "/assetserver/8587f7ae2ed26c178ca59298da277ae1e1bab058-knockout_punches.js"
              },
              {
               "name": null,
               "type": "js",
               "url": "/assetserver/fd3ac81e9bfae37cbe34e616aa458ac520bb7bd0-all.js"
              },
              {
               "name": null,
               "type": "css",
               "url": "/assetserver/4be168433ad737d18c295fbd99491e60c581482a-style.css"
              },
              {
               "name": null,
               "type": "css",
               "url": "/assetserver/077af9994a5e3318be72067998d2221dc7fb8add-bulma_confined.min.css"
              }
             ],
             "type": "async_block"
            },
            "mount_callbacks": [
             "function () {\n    var handler = (function (ko, koPunches) {\n    ko.punches.enableAll();\n    ko.bindingHandlers.numericValue = {\n        init: function(element, valueAccessor, allBindings, data, context) {\n            var stringified = ko.observable(ko.unwrap(valueAccessor()));\n            stringified.subscribe(function(value) {\n                var val = parseFloat(value);\n                if (!isNaN(val)) {\n                    valueAccessor()(val);\n                }\n            });\n            valueAccessor().subscribe(function(value) {\n                var str = JSON.stringify(value);\n                if ((str == \"0\") && ([\"-0\", \"-0.\"].indexOf(stringified()) >= 0))\n                     return;\n                 if ([\"null\", \"\"].indexOf(str) >= 0)\n                     return;\n                stringified(str);\n            });\n            ko.applyBindingsToNode(\n                element,\n                {\n                    value: stringified,\n                    valueUpdate: allBindings.get('valueUpdate'),\n                },\n                context,\n            );\n        }\n    };\n    var json_data = {\"formatted_vals\":[\"12\",\"13\",\"22\",\"56\",\"77\",\"97\",\"135\",\"144\",\"147\",\"166\",\"170\",\"174\",\"183\",\"197\",\"225\",\"252\",\"261\",\"316\",\"324\",\"325\",\"327\",\"332\",\"337\",\"353\",\"377\",\"384\",\"414\",\"434\",\"437\",\"441\",\"450\",\"453\",\"458\",\"459\",\"467\",\"473\",\"478\",\"516\",\"518\",\"537\",\"541\",\"549\",\"554\",\"561\",\"563\",\"564\",\"608\",\"639\",\"651\",\"702\",\"704\",\"712\",\"734\",\"773\",\"788\",\"821\"],\"changes\":WebIO.getval({\"name\":\"changes\",\"scope\":\"7377422785378073925\",\"id\":\"8357259404510247708\",\"type\":\"observable\"}),\"index\":WebIO.getval({\"name\":\"index\",\"scope\":\"7377422785378073925\",\"id\":\"14343223484568897934\",\"type\":\"observable\"})};\n    var self = this;\n    function AppViewModel() {\n        for (var key in json_data) {\n            var el = json_data[key];\n            this[key] = Array.isArray(el) ? ko.observableArray(el) : ko.observable(el);\n        }\n        \n        [this[\"formatted_val\"]=ko.computed(    function(){\n        return this.formatted_vals()[parseInt(this.index())-(1)];\n    }\n,this)]\n        [this[\"changes\"].subscribe((function (val){!(this.valueFromJulia[\"changes\"]) ? (WebIO.setval({\"name\":\"changes\",\"scope\":\"7377422785378073925\",\"id\":\"8357259404510247708\",\"type\":\"observable\"},val)) : undefined; return this.valueFromJulia[\"changes\"]=false}),self),this[\"index\"].subscribe((function (val){!(this.valueFromJulia[\"index\"]) ? (WebIO.setval({\"name\":\"index\",\"scope\":\"7377422785378073925\",\"id\":\"14343223484568897934\",\"type\":\"observable\"},val)) : undefined; return this.valueFromJulia[\"index\"]=false}),self)]\n        \n    }\n    self.model = new AppViewModel();\n    self.valueFromJulia = {};\n    for (var key in json_data) {\n        self.valueFromJulia[key] = false;\n    }\n    ko.applyBindings(self.model, self.dom);\n}\n);\n    (WebIO.importBlock({\"data\":[{\"name\":\"knockout\",\"type\":\"js\",\"url\":\"/assetserver/68fae20bd2d0f24742949290115f83323f7f435a-knockout.js\"},{\"name\":\"knockout_punches\",\"type\":\"js\",\"url\":\"/assetserver/8587f7ae2ed26c178ca59298da277ae1e1bab058-knockout_punches.js\"}],\"type\":\"async_block\"})).then((imports) => handler.apply(this, imports));\n}\n"
            ],
            "observables": {
             "changes": {
              "id": "8357259404510247708",
              "sync": false,
              "value": 0
             },
             "index": {
              "id": "14343223484568897934",
              "sync": true,
              "value": 28
             }
            },
            "systemjs_options": null
           },
           "nodeType": "Scope",
           "props": {},
           "type": "node"
          }
         ],
         "instanceArgs": {
          "namespace": "html",
          "tag": "div"
         },
         "nodeType": "DOM",
         "props": {
          "className": "field interact-widget"
         },
         "type": "node"
        },
        {
         "children": [
          {
           "children": [],
           "instanceArgs": {
            "id": "14157115148417479529",
            "name": "obs-node"
           },
           "nodeType": "ObservableNode",
           "props": {},
           "type": "node"
          }
         ],
         "instanceArgs": {
          "handlers": {},
          "id": "16409648133721572830",
          "imports": {
           "data": [],
           "type": "async_block"
          },
          "mount_callbacks": [],
          "observables": {
           "obs-node": {
            "id": "14157115148417479529",
            "sync": false,
            "value": {
             "children": [
              {
               "children": [],
               "instanceArgs": {
                "namespace": "html",
                "tag": "div"
               },
               "nodeType": "DOM",
               "props": {
                "setInnerHtml": "<img src='data:image/png;base64,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'></img>"
               },
               "type": "node"
              }
             ],
             "instanceArgs": {
              "namespace": "html",
              "tag": "div"
             },
             "nodeType": "DOM",
             "props": {
              "className": "interact-flex-row interact-widget"
             },
             "type": "node"
            }
           }
          },
          "systemjs_options": null
         },
         "nodeType": "Scope",
         "props": {},
         "type": "node"
        }
       ],
       "instanceArgs": {
        "namespace": "html",
        "tag": "div"
       },
       "nodeType": "DOM",
       "props": {},
       "type": "node"
      },
      "text/html": [
       "<div\n",
       "    class=\"webio-mountpoint\"\n",
       "    data-webio-mountpoint=\"13108558341008100814\"\n",
       ">\n",
       "    <script>\n",
       "    if (window.require && require.defined && require.defined(\"nbextensions/webio-jupyter-notebook\")) {\n",
       "        console.log(\"Jupyter WebIO extension detected, not mounting.\");\n",
       "    } else if (window.WebIO) {\n",
       "        WebIO.mount(\n",
       "            document.querySelector('[data-webio-mountpoint=\"13108558341008100814\"]'),\n",
       "            {\"props\":{},\"nodeType\":\"DOM\",\"type\":\"node\",\"instanceArgs\":{\"namespace\":\"html\",\"tag\":\"div\"},\"children\":[{\"props\":{\"className\":\"field interact-widget\"},\"nodeType\":\"DOM\",\"type\":\"node\",\"instanceArgs\":{\"namespace\":\"html\",\"tag\":\"div\"},\"children\":[{\"props\":{},\"nodeType\":\"Scope\",\"type\":\"node\",\"instanceArgs\":{\"imports\":{\"data\":[{\"name\":\"knockout\",\"type\":\"js\",\"url\":\"\\/assetserver\\/68fae20bd2d0f24742949290115f83323f7f435a-knockout.js\"},{\"name\":\"knockout_punches\",\"type\":\"js\",\"url\":\"\\/assetserver\\/8587f7ae2ed26c178ca59298da277ae1e1bab058-knockout_punches.js\"},{\"name\":null,\"type\":\"js\",\"url\":\"\\/assetserver\\/fd3ac81e9bfae37cbe34e616aa458ac520bb7bd0-all.js\"},{\"name\":null,\"type\":\"css\",\"url\":\"\\/assetserver\\/4be168433ad737d18c295fbd99491e60c581482a-style.css\"},{\"name\":null,\"type\":\"css\",\"url\":\"\\/assetserver\\/077af9994a5e3318be72067998d2221dc7fb8add-bulma_confined.min.css\"}],\"type\":\"async_block\"},\"id\":\"7377422785378073925\",\"handlers\":{\"changes\":[\"(function (val){return (val!=this.model[\\\"changes\\\"]()) ? (this.valueFromJulia[\\\"changes\\\"]=true, this.model[\\\"changes\\\"](val)) : undefined})\"],\"index\":[\"(function (val){return (val!=this.model[\\\"index\\\"]()) ? (this.valueFromJulia[\\\"index\\\"]=true, this.model[\\\"index\\\"](val)) : undefined})\"]},\"systemjs_options\":null,\"mount_callbacks\":[\"function () {\\n    var handler = (function (ko, koPunches) {\\n    ko.punches.enableAll();\\n    ko.bindingHandlers.numericValue = {\\n        init: function(element, valueAccessor, allBindings, data, context) {\\n            var stringified = ko.observable(ko.unwrap(valueAccessor()));\\n            stringified.subscribe(function(value) {\\n                var val = parseFloat(value);\\n                if (!isNaN(val)) {\\n                    valueAccessor()(val);\\n                }\\n            });\\n            valueAccessor().subscribe(function(value) {\\n                var str = JSON.stringify(value);\\n                if ((str == \\\"0\\\") && ([\\\"-0\\\", \\\"-0.\\\"].indexOf(stringified()) >= 0))\\n                     return;\\n                 if ([\\\"null\\\", \\\"\\\"].indexOf(str) >= 0)\\n                     return;\\n                stringified(str);\\n            });\\n            ko.applyBindingsToNode(\\n                element,\\n                {\\n                    value: stringified,\\n                    valueUpdate: allBindings.get('valueUpdate'),\\n                },\\n                context,\\n            );\\n        }\\n    };\\n    var json_data = {\\\"formatted_vals\\\":[\\\"12\\\",\\\"13\\\",\\\"22\\\",\\\"56\\\",\\\"77\\\",\\\"97\\\",\\\"135\\\",\\\"144\\\",\\\"147\\\",\\\"166\\\",\\\"170\\\",\\\"174\\\",\\\"183\\\",\\\"197\\\",\\\"225\\\",\\\"252\\\",\\\"261\\\",\\\"316\\\",\\\"324\\\",\\\"325\\\",\\\"327\\\",\\\"332\\\",\\\"337\\\",\\\"353\\\",\\\"377\\\",\\\"384\\\",\\\"414\\\",\\\"434\\\",\\\"437\\\",\\\"441\\\",\\\"450\\\",\\\"453\\\",\\\"458\\\",\\\"459\\\",\\\"467\\\",\\\"473\\\",\\\"478\\\",\\\"516\\\",\\\"518\\\",\\\"537\\\",\\\"541\\\",\\\"549\\\",\\\"554\\\",\\\"561\\\",\\\"563\\\",\\\"564\\\",\\\"608\\\",\\\"639\\\",\\\"651\\\",\\\"702\\\",\\\"704\\\",\\\"712\\\",\\\"734\\\",\\\"773\\\",\\\"788\\\",\\\"821\\\"],\\\"changes\\\":WebIO.getval({\\\"name\\\":\\\"changes\\\",\\\"scope\\\":\\\"7377422785378073925\\\",\\\"id\\\":\\\"8357259404510247708\\\",\\\"type\\\":\\\"observable\\\"}),\\\"index\\\":WebIO.getval({\\\"name\\\":\\\"index\\\",\\\"scope\\\":\\\"7377422785378073925\\\",\\\"id\\\":\\\"14343223484568897934\\\",\\\"type\\\":\\\"observable\\\"})};\\n    var self = this;\\n    function AppViewModel() {\\n        for (var key in json_data) {\\n            var el = json_data[key];\\n            this[key] = Array.isArray(el) ? ko.observableArray(el) : ko.observable(el);\\n        }\\n        \\n        [this[\\\"formatted_val\\\"]=ko.computed(    function(){\\n        return this.formatted_vals()[parseInt(this.index())-(1)];\\n    }\\n,this)]\\n        [this[\\\"changes\\\"].subscribe((function (val){!(this.valueFromJulia[\\\"changes\\\"]) ? (WebIO.setval({\\\"name\\\":\\\"changes\\\",\\\"scope\\\":\\\"7377422785378073925\\\",\\\"id\\\":\\\"8357259404510247708\\\",\\\"type\\\":\\\"observable\\\"},val)) : undefined; return this.valueFromJulia[\\\"changes\\\"]=false}),self),this[\\\"index\\\"].subscribe((function (val){!(this.valueFromJulia[\\\"index\\\"]) ? (WebIO.setval({\\\"name\\\":\\\"index\\\",\\\"scope\\\":\\\"7377422785378073925\\\",\\\"id\\\":\\\"14343223484568897934\\\",\\\"type\\\":\\\"observable\\\"},val)) : undefined; return this.valueFromJulia[\\\"index\\\"]=false}),self)]\\n        \\n    }\\n    self.model = new AppViewModel();\\n    self.valueFromJulia = {};\\n    for (var key in json_data) {\\n        self.valueFromJulia[key] = false;\\n    }\\n    ko.applyBindings(self.model, self.dom);\\n}\\n);\\n    (WebIO.importBlock({\\\"data\\\":[{\\\"name\\\":\\\"knockout\\\",\\\"type\\\":\\\"js\\\",\\\"url\\\":\\\"\\/assetserver\\/68fae20bd2d0f24742949290115f83323f7f435a-knockout.js\\\"},{\\\"name\\\":\\\"knockout_punches\\\",\\\"type\\\":\\\"js\\\",\\\"url\\\":\\\"\\/assetserver\\/8587f7ae2ed26c178ca59298da277ae1e1bab058-knockout_punches.js\\\"}],\\\"type\\\":\\\"async_block\\\"})).then((imports) => handler.apply(this, imports));\\n}\\n\"],\"observables\":{\"changes\":{\"sync\":false,\"id\":\"8357259404510247708\",\"value\":0},\"index\":{\"sync\":true,\"id\":\"14343223484568897934\",\"value\":28}}},\"children\":[{\"props\":{\"className\":\"interact-flex-row interact-widget\"},\"nodeType\":\"DOM\",\"type\":\"node\",\"instanceArgs\":{\"namespace\":\"html\",\"tag\":\"div\"},\"children\":[{\"props\":{\"className\":\"interact-flex-row-left\"},\"nodeType\":\"DOM\",\"type\":\"node\",\"instanceArgs\":{\"namespace\":\"html\",\"tag\":\"div\"},\"children\":[{\"props\":{\"className\":\"interact \",\"style\":{\"padding\":\"5px 10px 0px 10px\"}},\"nodeType\":\"DOM\",\"type\":\"node\",\"instanceArgs\":{\"namespace\":\"html\",\"tag\":\"label\"},\"children\":[\"idx\"]}]},{\"props\":{\"className\":\"interact-flex-row-center\"},\"nodeType\":\"DOM\",\"type\":\"node\",\"instanceArgs\":{\"namespace\":\"html\",\"tag\":\"div\"},\"children\":[{\"props\":{\"max\":56,\"min\":1,\"attributes\":{\"type\":\"range\",\"data-bind\":\"numericValue: index, valueUpdate: 'input', event: {change: function (){this.changes(this.changes()+1)}}\",\"orient\":\"horizontal\"},\"step\":1,\"className\":\"slider slider is-fullwidth\",\"style\":{}},\"nodeType\":\"DOM\",\"type\":\"node\",\"instanceArgs\":{\"namespace\":\"html\",\"tag\":\"input\"},\"children\":[]}]},{\"props\":{\"className\":\"interact-flex-row-right\"},\"nodeType\":\"DOM\",\"type\":\"node\",\"instanceArgs\":{\"namespace\":\"html\",\"tag\":\"div\"},\"children\":[{\"props\":{\"attributes\":{\"data-bind\":\"text: formatted_val\"}},\"nodeType\":\"DOM\",\"type\":\"node\",\"instanceArgs\":{\"namespace\":\"html\",\"tag\":\"p\"},\"children\":[]}]}]}]}]},{\"props\":{},\"nodeType\":\"Scope\",\"type\":\"node\",\"instanceArgs\":{\"imports\":{\"data\":[],\"type\":\"async_block\"},\"id\":\"16347897413191029146\",\"handlers\":{},\"systemjs_options\":null,\"mount_callbacks\":[],\"observables\":{\"obs-node\":{\"sync\":false,\"id\":\"4021393840183227791\",\"value\":{\"props\":{\"className\":\"interact-flex-row interact-widget\"},\"nodeType\":\"DOM\",\"type\":\"node\",\"instanceArgs\":{\"namespace\":\"html\",\"tag\":\"div\"},\"children\":[{\"props\":{\"setInnerHtml\":\"<img src='data:image\\/png;base64,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'><\\/img>\"},\"nodeType\":\"DOM\",\"type\":\"node\",\"instanceArgs\":{\"namespace\":\"html\",\"tag\":\"div\"},\"children\":[]}]}}}},\"children\":[{\"props\":{},\"nodeType\":\"ObservableNode\",\"type\":\"node\",\"instanceArgs\":{\"id\":\"4021393840183227791\",\"name\":\"obs-node\"},\"children\":[]}]}]},\n",
       "            window,\n",
       "        );\n",
       "    } else {\n",
       "        document\n",
       "            .querySelector('[data-webio-mountpoint=\"13108558341008100814\"]')\n",
       "            .innerHTML = (\n",
       "                '<div style=\"padding: 1em; background-color: #f8d6da; border: 1px solid #f5c6cb\">' +\n",
       "                '<p><strong>WebIO not detected.</strong></p>' +\n",
       "                '<p>Please read ' +\n",
       "                '<a href=\"https://juliagizmos.github.io/WebIO.jl/latest/troubleshooting/not-detected/\" target=\"_blank\">the troubleshooting guide</a> ' +\n",
       "                'for more information on how to resolve this issue.</p>' +\n",
       "                '<p><a href=\"https://juliagizmos.github.io/WebIO.jl/latest/troubleshooting/not-detected/\" target=\"_blank\">https://juliagizmos.github.io/WebIO.jl/latest/troubleshooting/not-detected/</a></p>' +\n",
       "                '</div>'\n",
       "            );\n",
       "    }\n",
       "    </script>\n",
       "</div>\n"
      ],
      "text/plain": [
       "Node{WebIO.DOM}(WebIO.DOM(:html, :div), Any[Node{WebIO.DOM}(WebIO.DOM(:html, :div), Any[Scope(Node{WebIO.DOM}(WebIO.DOM(:html, :div), Any[Node{WebIO.DOM}(WebIO.DOM(:html, :div), Any[Node{WebIO.DOM}(WebIO.DOM(:html, :label), Any[\"idx\"], Dict{Symbol,Any}(:className => \"interact \",:style => Dict{Any,Any}(:padding => \"5px 10px 0px 10px\")))], Dict{Symbol,Any}(:className => \"interact-flex-row-left\")), Node{WebIO.DOM}(WebIO.DOM(:html, :div), Any[Node{WebIO.DOM}(WebIO.DOM(:html, :input), Any[], Dict{Symbol,Any}(:max => 56,:min => 1,:attributes => Dict{Any,Any}(:type => \"range\",Symbol(\"data-bind\") => \"numericValue: index, valueUpdate: 'input', event: {change: function (){this.changes(this.changes()+1)}}\",\"orient\" => \"horizontal\"),:step => 1,:className => \"slider slider is-fullwidth\",:style => Dict{Any,Any}()))], Dict{Symbol,Any}(:className => \"interact-flex-row-center\")), Node{WebIO.DOM}(WebIO.DOM(:html, :div), Any[Node{WebIO.DOM}(WebIO.DOM(:html, :p), Any[], Dict{Symbol,Any}(:attributes => Dict(\"data-bind\" => \"text: formatted_val\")))], Dict{Symbol,Any}(:className => \"interact-flex-row-right\"))], Dict{Symbol,Any}(:className => \"interact-flex-row interact-widget\")), Dict{String,Tuple{Observables.AbstractObservable,Union{Nothing, Bool}}}(\"changes\" => (Observable{Int64} with 1 listeners. Value:\n",
       "0, nothing),\"index\" => (Observable{Any} with 2 listeners. Value:\n",
       "28, nothing)), Set{String}(), nothing, Asset[Asset(\"js\", \"knockout\", \"/home/jimmy/.julia/packages/Knockout/IP1uR/src/../assets/knockout.js\"), Asset(\"js\", \"knockout_punches\", \"/home/jimmy/.julia/packages/Knockout/IP1uR/src/../assets/knockout_punches.js\"), Asset(\"js\", nothing, \"/home/jimmy/.julia/packages/InteractBase/sOe2Z/src/../assets/all.js\"), Asset(\"css\", nothing, \"/home/jimmy/.julia/packages/InteractBase/sOe2Z/src/../assets/style.css\"), Asset(\"css\", nothing, \"/home/jimmy/.julia/packages/Interact/SbgIk/src/../assets/bulma_confined.min.css\")], Dict{Any,Any}(\"changes\" => Any[WebIO.JSString(\"(function (val){return (val!=this.model[\\\"changes\\\"]()) ? (this.valueFromJulia[\\\"changes\\\"]=true, this.model[\\\"changes\\\"](val)) : undefined})\")],\"index\" => Any[WebIO.JSString(\"(function (val){return (val!=this.model[\\\"index\\\"]()) ? (this.valueFromJulia[\\\"index\\\"]=true, this.model[\\\"index\\\"](val)) : undefined})\")]), WebIO.ConnectionPool(Channel{Any}(sz_max:32,sz_curr:0), Set{AbstractConnection}(), Base.GenericCondition{Base.AlwaysLockedST}(Base.InvasiveLinkedList{Task}(Task (runnable) @0x00007f432c260280, Task (runnable) @0x00007f432c260280), Base.AlwaysLockedST(1))), WebIO.JSString[WebIO.JSString(\"function () {\\n    var handler = (function (ko, koPunches) {\\n    ko.punches.enableAll();\\n    ko.bindingHandlers.numericValue = {\\n        init: function(element, valueAccessor, allBindings, data, context) {\\n            var stringified = ko.observable(ko.unwrap(valueAccessor()));\\n            stringified.subscribe(function(value) {\\n                var val = parseFloat(value);\\n                if (!isNaN(val)) {\\n                    valueAccessor()(val);\\n                }\\n            });\\n            valueAccessor().subscribe(function(value) {\\n                var str = JSON.stringify(value);\\n                if ((str == \\\"0\\\") && ([\\\"-0\\\", \\\"-0.\\\"].indexOf(stringified()) >= 0))\\n                     return;\\n                 if ([\\\"null\\\", \\\"\\\"].indexOf(str) >= 0)\\n                     return;\\n                stringified(str);\\n            });\\n            ko.applyBindingsToNode(\\n                element,\\n                {\\n                    value: stringified,\\n                    valueUpdate: allBindings.get('valueUpdate'),\\n                },\\n                context,\\n            );\\n        }\\n    };\\n    var json_data = {\\\"formatted_vals\\\":[\\\"12\\\",\\\"13\\\",\\\"22\\\",\\\"56\\\",\\\"77\\\",\\\"97\\\",\\\"135\\\",\\\"144\\\",\\\"147\\\",\\\"166\\\",\\\"170\\\",\\\"174\\\",\\\"183\\\",\\\"197\\\",\\\"225\\\",\\\"252\\\",\\\"261\\\",\\\"316\\\",\\\"324\\\",\\\"325\\\",\\\"327\\\",\\\"332\\\",\\\"337\\\",\\\"353\\\",\\\"377\\\",\\\"384\\\",\\\"414\\\",\\\"434\\\",\\\"437\\\",\\\"441\\\",\\\"450\\\",\\\"453\\\",\\\"458\\\",\\\"459\\\",\\\"467\\\",\\\"473\\\",\\\"478\\\",\\\"516\\\",\\\"518\\\",\\\"537\\\",\\\"541\\\",\\\"549\\\",\\\"554\\\",\\\"561\\\",\\\"563\\\",\\\"564\\\",\\\"608\\\",\\\"639\\\",\\\"651\\\",\\\"702\\\",\\\"704\\\",\\\"712\\\",\\\"734\\\",\\\"773\\\",\\\"788\\\",\\\"821\\\"],\\\"changes\\\":WebIO.getval({\\\"name\\\":\\\"changes\\\",\\\"scope\\\":\\\"7377422785378073925\\\",\\\"id\\\":\\\"8357259404510247708\\\",\\\"type\\\":\\\"observable\\\"}),\\\"index\\\":WebIO.getval({\\\"name\\\":\\\"index\\\",\\\"scope\\\":\\\"7377422785378073925\\\",\\\"id\\\":\\\"14343223484568897934\\\",\\\"type\\\":\\\"observable\\\"})};\\n    var self = this;\\n    function AppViewModel() {\\n        for (var key in json_data) {\\n            var el = json_data[key];\\n            this[key] = Array.isArray(el) ? ko.observableArray(el) : ko.observable(el);\\n        }\\n        \\n        [this[\\\"formatted_val\\\"]=ko.computed(    function(){\\n        return this.formatted_vals()[parseInt(this.index())-(1)];\\n    }\\n,this)]\\n        [this[\\\"changes\\\"].subscribe((function (val){!(this.valueFromJulia[\\\"changes\\\"]) ? (WebIO.setval({\\\"name\\\":\\\"changes\\\",\\\"scope\\\":\\\"7377422785378073925\\\",\\\"id\\\":\\\"8357259404510247708\\\",\\\"type\\\":\\\"observable\\\"},val)) : undefined; return this.valueFromJulia[\\\"changes\\\"]=false}),self),this[\\\"index\\\"].subscribe((function (val){!(this.valueFromJulia[\\\"index\\\"]) ? (WebIO.setval({\\\"name\\\":\\\"index\\\",\\\"scope\\\":\\\"7377422785378073925\\\",\\\"id\\\":\\\"14343223484568897934\\\",\\\"type\\\":\\\"observable\\\"},val)) : undefined; return this.valueFromJulia[\\\"index\\\"]=false}),self)]\\n        \\n    }\\n    self.model = new AppViewModel();\\n    self.valueFromJulia = {};\\n    for (var key in json_data) {\\n        self.valueFromJulia[key] = false;\\n    }\\n    ko.applyBindings(self.model, self.dom);\\n}\\n);\\n    (WebIO.importBlock({\\\"data\\\":[{\\\"name\\\":\\\"knockout\\\",\\\"type\\\":\\\"js\\\",\\\"url\\\":\\\"/assetserver/68fae20bd2d0f24742949290115f83323f7f435a-knockout.js\\\"},{\\\"name\\\":\\\"knockout_punches\\\",\\\"type\\\":\\\"js\\\",\\\"url\\\":\\\"/assetserver/8587f7ae2ed26c178ca59298da277ae1e1bab058-knockout_punches.js\\\"}],\\\"type\\\":\\\"async_block\\\"})).then((imports) => handler.apply(this, imports));\\n}\\n\")])], Dict{Symbol,Any}(:className => \"field interact-widget\")), Observable{Any} with 0 listeners. Value:\n",
       "Node{WebIO.DOM}(WebIO.DOM(:html, :div), Any[RGB[RGB{Float64}(0.26384313725490194,0.5876078431372549,0.22321568627450983) RGB{Float64}(0.2683921568627451,0.596392156862745,0.22776470588235295) … RGB{Float64}(0.27984313725490195,0.6087843137254901,0.23341176470588237) RGB{Float64}(0.2837647058823529,0.5959215686274509,0.22274509803921572); RGB{Float64}(0.2553725490196078,0.6108235294117645,0.23450980392156864) RGB{Float64}(0.25631372549019604,0.612392156862745,0.2330980392156863) … RGB{Float64}(0.2553725490196078,0.6235294117647058,0.23074509803921572) RGB{Float64}(0.2596078431372549,0.6175686274509803,0.22886274509803922); … ; RGB{Float64}(0.2451764705882353,0.6343529411764703,0.20611764705882354) RGB{Float64}(0.24925490196078431,0.6417254901960783,0.21239215686274512) … RGB{Float64}(0.2459607843137255,0.6596078431372548,0.23670588235294118) RGB{Float64}(0.24250980392156865,0.6527058823529411,0.22807843137254902); RGB{Float64}(0.2608627450980392,0.6360784313725488,0.21584313725490198) RGB{Float64}(0.25803921568627447,0.6359215686274508,0.21490196078431378) … RGB{Float64}(0.24298039215686276,0.6356078431372548,0.2161568627450981) RGB{Float64}(0.2475294117647059,0.636392156862745,0.21992156862745102)]], Dict{Symbol,Any}(:className => \"interact-flex-row interact-widget\"))], Dict{Symbol,Any}())"
      ]
     },
     "metadata": {},
     "output_type": "execute_result"
    }
   ],
   "source": [
    "h, w, rgb, n_samples = size(X_rock)\n",
    "\n",
    "println(\"Incorrectly classified\")\n",
    "@manipulate throttle=0.3 for idx in p[\"incorrect_idx\"]\n",
    "    X_img = reshape(X_test[:, idx], h, w, rgb)\n",
    "    \n",
    "    array2rgb(X_img)\n",
    "end"
   ]
  },
  {
   "cell_type": "code",
   "execution_count": 41,
   "metadata": {},
   "outputs": [],
   "source": [
    "outdir = \"multiclassified\"\n",
    "try\n",
    "    rm(outdir, recursive=true)\n",
    "catch\n",
    "end\n",
    "    \n",
    "for idx in p[\"incorrect_idx\"]\n",
    "    X_img = reshape(X_test[:, idx], h, w, rgb)\n",
    "    img = array2rgb(X_img)\n",
    "    save(\"$(outdir)/wrong$(idx).png\", img)\n",
    "end\n",
    "\n",
    "for idx in p[\"correct_idx\"]\n",
    "    X_img = reshape(X_test[:, idx], h, w, rgb)\n",
    "    img = array2rgb(X_img)\n",
    "    save(\"$(outdir)/right$(idx).png\", img)\n",
    "end"
   ]
  },
  {
   "cell_type": "code",
   "execution_count": null,
   "metadata": {},
   "outputs": [],
   "source": []
  }
 ],
 "metadata": {
  "kernelspec": {
   "display_name": "Julia 1.5.2",
   "language": "julia",
   "name": "julia-1.5"
  },
  "language_info": {
   "file_extension": ".jl",
   "mimetype": "application/julia",
   "name": "julia",
   "version": "1.5.2"
  }
 },
 "nbformat": 4,
 "nbformat_minor": 2
}