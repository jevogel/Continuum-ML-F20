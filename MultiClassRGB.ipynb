{
 "cells": [
  {
   "cell_type": "code",
   "execution_count": 170,
   "metadata": {
    "tags": []
   },
   "outputs": [
    {
     "name": "stdout",
     "output_type": "stream",
     "text": [
      "Libraries loaded\n"
     ]
    }
   ],
   "source": [
    "using IJulia, ImageIO, ImageMagick, Plots, Images, JLD2, Printf, Random, Statistics\n",
    "\n",
    "if !@isdefined(g)\n",
    "    include(\"src/MyLearn2ClassifyMany.jl\")\n",
    "end\n",
    "using Main.MyLearn2ClassifyMany\n",
    "\n",
    "theme(\n",
    "    :wong;\n",
    "    label=\"\",\n",
    "    markerstrokewidth=0.3,\n",
    "    markerstrokecolor=:white\n",
    ")\n",
    "\n",
    "println(\"Libraries loaded\")"
   ]
  },
  {
   "cell_type": "code",
   "execution_count": 171,
   "metadata": {
    "tags": []
   },
   "outputs": [
    {
     "name": "stdout",
     "output_type": "stream",
     "text": [
      "Functions defined\n"
     ]
    }
   ],
   "source": [
    "function e_i(i::Integer, n::Integer, T::Type=Float64)\n",
    "    v = zeros(T, n)\n",
    "    v[i] = 1\n",
    "\n",
    "    return v\n",
    "end\n",
    "\n",
    "\"\"\"\n",
    "    img = array2rgb(X)\n",
    "\n",
    "Given a `height` x `width` x `3` array, return an RGB image with the same\n",
    "dimensions, where\n",
    "\n",
    "    img[i, j] = RGB(X[i, j, 1], X[i, j, 2], X[i, j, 3])\n",
    "\"\"\"\n",
    "function array2rgb(X::Array{T,3}) where T <: Number\n",
    "    height, width = size(X, 1), size(X, 2)\n",
    "    img = Array{RGB,2}(undef, height, width)\n",
    "\n",
    "    for i in 1:height, j in 1:width\n",
    "        r, g, b = X[i, j, :]\n",
    "        img[i, j] = RGB(r, g, b)\n",
    "    end\n",
    "    return img\n",
    "end\n",
    "\n",
    "\"\"\"\n",
    "    Y = array2matrix(X)\n",
    "\n",
    "Given a four-dimensional array `X`, vectorize each slice of `X` along\n",
    "its fourth dimension. For example, if `X` has size `height` x `width` x\n",
    "`rgb` x `n_samples`, then the returned matrix has size\n",
    "`height * width * rgb` x `n_samples`.\n",
    "\"\"\"\n",
    "function array2matrix(X::AbstractArray{T,4}) where T\n",
    "    height, width, rgb, n_samples = size(X)\n",
    "\n",
    "    Y = zeros(height * width * rgb, n_samples)\n",
    "\n",
    "    for idx in 1:n_samples\n",
    "        Y[:, idx] = vec(X[:, :, :, idx])\n",
    "    end\n",
    "\n",
    "    return Y\n",
    "end\n",
    "\n",
    "\"\"\"\n",
    "    Y = array2matrix(X, slice_dim)\n",
    "\n",
    "Given an array `X`, vectorize each slice of `X` along dimension `slice_dim`.\n",
    "\n",
    "This function is useful for converting high-dimensional datasets with a\n",
    "sample dimension into data matrices for training neural networks.\n",
    "\"\"\"\n",
    "function array2matrix(X::AbstractArray, slice_dim::Integer)\n",
    "    return hcat((vec(slice) for slice in eachslice(X; dims=slice_dim))...)\n",
    "end\n",
    "\n",
    "function check_correct(f_a, W_hat, X_test, b_hat, n_test)\n",
    "    Y_out = f_a.(W_hat * X_test .+ b_hat)\n",
    "    test_predicted = output2labels(Y_out)\n",
    "    test_actual = [ones(n_test); 2 * ones(n_test); 3 * ones(n_test)]\n",
    "    pcorrect = length(findall(test_actual .== test_predicted)) / length(test_actual)\n",
    "    return (\n",
    "        pcorrect,\n",
    "        test_predicted,\n",
    "        test_actual\n",
    "    )  \n",
    "end\n",
    "\n",
    "function output2labels(Y)\n",
    "    n_samples = size(Y, 2)\n",
    "    label_idx = [findmax(Y[:, i])[2] for i in 1:n_samples]\n",
    "end\n",
    "\n",
    "println(\"Functions defined\")"
   ]
  },
  {
   "cell_type": "code",
   "execution_count": 172,
   "metadata": {
    "tags": []
   },
   "outputs": [
    {
     "name": "stdout",
     "output_type": "stream",
     "text": [
      "Training and test data separated\n"
     ]
    }
   ],
   "source": [
    "X_rock = load(\"data/rock.jld2\")[\"rock_imgs\"]\n",
    "X_paper = load(\"data/paper.jld2\")[\"paper_imgs\"]\n",
    "X_scissors = load(\"data/scissors.jld2\")[\"scissors_imgs\"]\n",
    "\n",
    "X = [X_rock, X_paper, X_scissors]\n",
    "labels = [\"rock\", \"paper\", \"scissors\"]\n",
    "num_labels = length(labels)\n",
    "\n",
    "label2vector = Dict{String,Vector{Float64}}()\n",
    "for (i, l) in enumerate(labels)\n",
    "    label2vector[l] = e_i(i, num_labels)\n",
    "end\n",
    "vector2label = Dict((v, k) for (k, v) in label2vector)\n",
    "\n",
    "train_fraction = 0.6\n",
    "n_samples = size(X_rock, 4)\n",
    "n_train = Int(n_samples * train_fraction)\n",
    "n_test = n_samples - n_train\n",
    "\n",
    "X_train = hcat((array2matrix(Xi[:, :, :, 1:n_train]) for Xi in X)...)\n",
    "Y_train = hcat((repeat(label2vector[l], 1, n_train) for l in labels)...)\n",
    "\n",
    "X_test = hcat((array2matrix(Xi[:, :, :, (n_train + 1):n_samples]) for Xi in X)...)\n",
    "Y_test = hcat((repeat(label2vector[l], 1, n_test) for l in labels)...)\n",
    "\n",
    "println(\"Training and test data separated\")"
   ]
  },
  {
   "cell_type": "code",
   "execution_count": 183,
   "metadata": {},
   "outputs": [
    {
     "data": {
      "text/plain": [
       "train (generic function with 3 methods)"
      ]
     },
     "execution_count": 183,
     "metadata": {},
     "output_type": "execute_result"
    }
   ],
   "source": [
    "function train(\n",
    "        f_a,\n",
    "        df_a,\n",
    "        grad_loss_1layer,\n",
    "        X_train,\n",
    "        Y_train,\n",
    "        W0,\n",
    "        b0,\n",
    "        mu,\n",
    "        iters,\n",
    "        batch_size\n",
    "    )\n",
    "\n",
    "    println(\"\"\"μ: $(mu), i: $(iters), B: $(batch_size), f: $(String(Symbol(f_a)))\"\"\")\n",
    "\n",
    "    W_hat, b_hat, loss = learn2classify_asgd_1layer(\n",
    "        f_a,\n",
    "        df_a,\n",
    "        grad_loss_1layer,\n",
    "        X_train,\n",
    "        Y_train,\n",
    "        W0,\n",
    "        b0,\n",
    "        mu,\n",
    "        iters,\n",
    "        batch_size\n",
    "    )\n",
    "    \n",
    "    loss_end = mean(loss[end-100:end])\n",
    "\n",
    "    (pcorrect, test_predicted, test_actual) = check_correct(f_a, W_hat, X_test, b_hat, n_test)\n",
    "    \n",
    "    println(\"pc: $(@sprintf(\"%.2f\", pcorrect * 100))%, loss: $(@sprintf(\"%.2f\", loss_end * 100))%\")\n",
    "\n",
    "    loss_plot = scatter(\n",
    "        loss;\n",
    "        yscale=:log10,\n",
    "        ylims=[10^-2,10^0],\n",
    "        title=\"\"\"Training loss: $(@sprintf(\"%.2f\", loss_end * 100))%\n",
    "        Probability correct: $(@sprintf(\"%.2f\", pcorrect * 100))%\n",
    "        μ: $(mu), i: $(iters), B: $(batch_size), f: $(String(Symbol(f_a)))\"\"\"\n",
    "    )\n",
    "    \n",
    "    confusion_matrix = zeros(3, 3)\n",
    "    for i in 1:3\n",
    "        indices_i = findall(test_actual .== i)\n",
    "\n",
    "        # predictions for class i\n",
    "        predictions_i = test_predicted[indices_i]\n",
    "\n",
    "        for j in 1:3\n",
    "            # fraction of class i samples labeled as class j\n",
    "            confusion_matrix[i, j] = sum(predictions_i .== j) / length(indices_i)\n",
    "        end\n",
    "    end\n",
    "\n",
    "    # should be approximately all ones\n",
    "    @show sum(confusion_matrix; dims=2)\n",
    "\n",
    "    confusion_map = heatmap(\n",
    "        confusion_matrix;\n",
    "        alpha=1.0,\n",
    "        grid=false,\n",
    "        yflip=true,\n",
    "        xticks=(collect(1:3), [\"Rock\", \"Paper\", \"Scissors\"]),\n",
    "        yticks=(collect(1:3), [\"Rock\", \"Paper\", \"Scissors\"]),\n",
    "        aspect_ratio=1.0,\n",
    "        size=(500, 470)\n",
    "    )\n",
    "\n",
    "    params = Dict(\n",
    "        \"mu\"=>mu,\n",
    "        \"iters\"=>iters,\n",
    "        \"batch_size\"=>batch_size,\n",
    "        \"f_a\" =>f_a,\n",
    "        \"W_hat\"=>W_hat,\n",
    "        \"b_hat\"=>b_hat,\n",
    "        \"loss\"=>loss,\n",
    "        \"loss_end\"=>loss_end,\n",
    "        \"loss_plot\"=>loss_plot,\n",
    "        \"pcorrect\"=>pcorrect,\n",
    "        \"filename\"=>\"multiloss_p$(@sprintf(\"%.2f\", pcorrect * 100))%_μ1e$(Int(log10(mu)))_i$(iters)_B$(batch_size)_f$(String(Symbol(f_a))).png\",\n",
    "        \"confusion_matrix\"=>confusion_matrix,\n",
    "        \"confusion_map\"=>confusion_map\n",
    "    )\n",
    "    \n",
    "    return params\n",
    "end"
   ]
  },
  {
   "cell_type": "code",
   "execution_count": 184,
   "metadata": {
    "tags": []
   },
   "outputs": [
    {
     "name": "stdout",
     "output_type": "stream",
     "text": [
      "Starting training iterations\n",
      "μ: 0.001, i: 4000, B: 70, f: sigmoid\n",
      "pc: 93.08%, loss: 2.89%\n",
      "sum(confusion_matrix; dims = 2) = [0.9999999999999999; 1.0; 1.0]\n",
      "Training complete.\n"
     ]
    }
   ],
   "source": [
    "println(\"Starting training iterations\")\n",
    "\n",
    "getMu(i) = 1/10^i\n",
    "getIters(i) = Int(1000 * i)\n",
    "getBatch(i) = Int(10 .* i)\n",
    "getF(i) = ((linear,dlinear),(tanh,dtanh),(sigmoid,dsigmoid))[i]\n",
    "\n",
    "d = size(X_train, 1)\n",
    "W0 = zeros(num_labels, d)\n",
    "b0 = zeros(num_labels)\n",
    "plotsdir = \"plots\"\n",
    "mkpath(plotsdir)\n",
    "\n",
    "####### default training values ########\n",
    "\n",
    "mu = getMu(3) # 1e-5\n",
    "iters = getIters(4) # 4000\n",
    "batch_size = getBatch(7) # 40\n",
    "f_a, df_a = getF(3) # sigmoid, dsigmoid\n",
    "\n",
    "########################################\n",
    "# params = []\n",
    "# for i in 1:20\n",
    "#     mu = getMu(rand(2:7))\n",
    "#     f_a, df_a = getF(rand(1:3))\n",
    "#     batch_size = getBatch(rand(4:8))\n",
    "#     params = [params; train(f_a,df_a,grad_loss_1layer,X_train,Y_train,W0,b0,mu,iters,batch_size)]\n",
    "# end\n",
    "\n",
    "p = train(f_a,df_a,grad_loss_1layer,X_train,Y_train,W0,b0,mu,iters,batch_size)\n",
    "\n",
    "println(\"Training complete.\")"
   ]
  },
  {
   "cell_type": "code",
   "execution_count": 185,
   "metadata": {},
   "outputs": [],
   "source": [
    "savefig(p[\"loss_plot\"], \"$(plotsdir)/$(p[\"filename\"])\")\n",
    "savefig(p[\"confusion_map\"], \"$(plotsdir)/conf_$(p[\"filename\"])\")\n",
    "\n",
    "# ps = params\n",
    "# for i in 1:3\n",
    "#     val, idx = findmax(collect(p[\"pcorrect\"] for p in ps))\n",
    "#     p = ps[idx]\n",
    "#     deleteat!(ps, idx)\n",
    "#     savefig(p[\"loss_plot\"], p[\"filename\"])\n",
    "#     display(p[\"loss_plot\"])\n",
    "# end"
   ]
  }
 ],
 "metadata": {
  "kernelspec": {
   "display_name": "Julia 1.5.2",
   "language": "julia",
   "name": "julia-1.5"
  },
  "language_info": {
   "file_extension": ".jl",
   "mimetype": "application/julia",
   "name": "julia",
   "version": "1.5.2"
  }
 },
 "nbformat": 4,
 "nbformat_minor": 2
}
