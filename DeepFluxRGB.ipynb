{
 "cells": [
  {
   "cell_type": "markdown",
   "metadata": {},
   "source": [
    "# Multi-class classifiaction of RGB images of \"Rock, Paper, Scissors\" hand signs using Flux.jl and Deep Neural Networks"
   ]
  },
  {
   "cell_type": "markdown",
   "metadata": {},
   "source": [
    "## Initialization"
   ]
  },
  {
   "cell_type": "markdown",
   "metadata": {},
   "source": [
    "### Install and load packages"
   ]
  },
  {
   "cell_type": "code",
   "execution_count": 2,
   "metadata": {
    "tags": []
   },
   "outputs": [],
   "source": [
    "using Pkg\n",
    "Pkg.activate(\".\")\n",
    "Pkg.instantiate()\n",
    "\n",
    "using Plots, Interact, Flux\n",
    "using Flux: onehotbatch, argmax, crossentropy, throttle, mse, onecold, shuffle\n",
    "using Flux.Data: DataLoader\n",
    "using IterTools: ncycle, partition\n",
    "using JLD2, FileIO, ImageIO\n",
    "\n",
    "theme(\n",
    "    :wong;\n",
    "    label=\"\",\n",
    "    markerstrokewidth=0.3,\n",
    "    markerstrokecolor=:white\n",
    ")"
   ]
  },
  {
   "cell_type": "markdown",
   "metadata": {},
   "source": [
    "### Load Data"
   ]
  },
  {
   "cell_type": "code",
   "execution_count": 9,
   "metadata": {},
   "outputs": [],
   "source": [
    "X_rock = load(\"data/rock.jld2\")[\"rock_imgs\"]\n",
    "X_paper = load(\"data/paper.jld2\")[\"paper_imgs\"]\n",
    "X_scissors = load(\"data/scissors.jld2\")[\"scissors_imgs\"]\n",
    "\n",
    "println(\"Data loaded\")"
   ]
  },
  {
   "cell_type": "markdown",
   "metadata": {},
   "source": [
    "## Functions"
   ]
  },
  {
   "cell_type": "code",
   "execution_count": 29,
   "metadata": {},
   "outputs": [],
   "source": [
    "function e_i(i::Integer, n::Integer, T::Type=Int64)\n",
    "    v = zeros(T, n)\n",
    "    v[i] = 1\n",
    "\n",
    "    return v\n",
    "end\n",
    "function array2matrix(X::AbstractArray{T,4}) where T\n",
    "    height, width, rgb, n_samples = size(X)\n",
    "\n",
    "    Y = zeros(height * width * rgb, n_samples)\n",
    "\n",
    "    for idx in 1:n_samples\n",
    "        Y[:, idx] = vec(X[:, :, :, idx])\n",
    "    end\n",
    "\n",
    "    return Y\n",
    "end\n",
    "\n",
    "println(\"Functions defined\")"
   ]
  },
  {
   "cell_type": "markdown",
   "metadata": {},
   "source": [
    "## Reshape Data"
   ]
  },
  {
   "cell_type": "code",
   "execution_count": 27,
   "metadata": {
    "tags": []
   },
   "outputs": [],
   "source": [
    "X = [X_rock, X_paper, X_scissors]\n",
    "labels = [\"rock\", \"paper\", \"scissors\"]\n",
    "\n",
    "label2vector = Dict{String,Vector{Float64}}()\n",
    "for (i, l) in enumerate(labels)\n",
    "    label2vector[l] = e_i(i, length(labels))\n",
    "end\n",
    "vector2label = Dict((v, k) for (k, v) in label2vector)\n",
    "\n",
    "train_fraction = 0.6\n",
    "n_samples = size(X_rock, 4)\n",
    "n_train = Int(n_samples * train_fraction)\n",
    "n_test = n_samples - n_train\n",
    "\n",
    "X_train = hcat((array2matrix(Xi[:, :, :, 1:n_train]) for Xi in X)...)\n",
    "X_test = hcat((array2matrix(Xi[:, :, :, (n_train + 1):n_samples]) for Xi in X)...)\n",
    "\n",
    "train_labels = hcat((repeat(label2vector[l], 1, n_train) for l in labels)...)\n",
    "test_labels  = hcat((repeat(label2vector[l], 1, n_test ) for l in labels)...)\n",
    "\n",
    "@show train_labels[:,1]\n",
    "Y_train = onehotbatch(train_labels, 0:2)\n",
    "\n",
    "println(\"Training and test data separated\")"
   ]
  },
  {
   "cell_type": "markdown",
   "metadata": {},
   "source": [
    "## Train"
   ]
  },
  {
   "cell_type": "code",
   "execution_count": null,
   "metadata": {},
   "outputs": [],
   "source": [
    "m = Chain(\n",
    "    Dense(28^2, 40, relu),\n",
    "    Dense(40, 10),\n",
    "    softmax\n",
    ")\n",
    "\n",
    "loss(x, y) = crossentropy(m(x), y)\n",
    "\n",
    "accuracy(x, y) = mean(onecold(m(x)) .== onecold(y))\n",
    "\n",
    "opt = ADAM()\n",
    "\n",
    "function evalcb()\n",
    "    l = round(loss(X_train, Y_train); digits=4)\n",
    "    a = round(accuracy(X_train, Y_train); digits=4)\n",
    "    println(\"Loss: $(l)\\tAccuracy: $(a)\")\n",
    "end\n",
    "\n",
    "epochs = 8 # each epoch represents one pass through data\n",
    "batchsize = 100\n",
    "\n",
    "train_loader = DataLoader(X_train, Y_train; batchsize=batchsize)\n",
    "Flux.train!(loss, params(m), ncycle(train_loader, epochs), opt; cb=throttle(evalcb, 2.0))"
   ]
  },
  {
   "cell_type": "markdown",
   "metadata": {},
   "source": [
    "## Review"
   ]
  },
  {
   "cell_type": "code",
   "execution_count": null,
   "metadata": {
    "tags": []
   },
   "outputs": [],
   "source": []
  },
  {
   "cell_type": "code",
   "execution_count": null,
   "metadata": {},
   "outputs": [],
   "source": []
  },
  {
   "cell_type": "code",
   "execution_count": null,
   "metadata": {
    "tags": []
   },
   "outputs": [],
   "source": []
  },
  {
   "cell_type": "code",
   "execution_count": null,
   "metadata": {},
   "outputs": [],
   "source": []
  }
 ],
 "metadata": {
  "@webio": {
   "lastCommId": "74b16e13e1b049e781786c04a6153e4a",
   "lastKernelId": "929a263c-ef49-49d5-a4e4-b48ca9bac976"
  },
  "kernelspec": {
   "display_name": "Julia 1.5.2",
   "language": "julia",
   "name": "julia-1.5"
  },
  "language_info": {
   "file_extension": ".jl",
   "mimetype": "application/julia",
   "name": "julia",
   "version": "3.8.5-final"
  }
 },
 "nbformat": 4,
 "nbformat_minor": 2
}